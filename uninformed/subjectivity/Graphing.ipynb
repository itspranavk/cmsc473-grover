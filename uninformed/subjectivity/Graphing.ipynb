{
 "cells": [
  {
   "cell_type": "code",
   "execution_count": 3,
   "metadata": {},
   "outputs": [
    {
     "data": {
      "image/png": "[encoded data removed]",
      "text/plain": [
       "<Figure size 432x288 with 1 Axes>"
      ]
     },
     "metadata": {
      "needs_background": "light"
     },
     "output_type": "display_data"
    }
   ],
   "source": [
    "from matplotlib import pyplot as plt\n",
    "from numpy.polynomial.polynomial import polyfit\n",
    "import numpy as np\n",
    "\n",
    "#probs result from article 2\n",
    "res2 = np.load(\"results_subjectivity/5-subejctivity-reversed-test-probs.npy\")\n",
    "res2\n",
    "\n",
    "\n",
    "res2 = np.transpose(res2)\n",
    "\n",
    "machine = res2[0].copy()\n",
    "human = res2[1].copy()\n",
    "\n",
    "x = np.array([i for i in range(len(res2[0])) ])\n",
    "#xn = np.linspace(1, len(res2[0]), len(res2[0])*10)\n",
    "\n",
    "machine_data = plt.scatter(x,machine, c =\"blue\",\n",
    "            linewidths = 1,\n",
    "            marker =\"^\", \n",
    "            s = 50,\n",
    "           label = \"Machine\")\n",
    "human_data = plt.scatter(x, human, c =\"orange\", \n",
    "            linewidths = 2, \n",
    "            marker =\"s\", \n",
    "            s = 30)\n",
    "\n",
    "plt.ylabel(\"Confidence Level\")\n",
    "plt.xlabel(\"No. of fake sentences inserted\")\n",
    "plt.title(\"Article 5 (max -> min)\")\n",
    "\n",
    "plt.legend((machine_data, human_data), (\"Machine\", \"Human\"))\n",
    "\n",
    "plt.show()\n",
    "\n",
    "#popt1 = np.polyfit(x, machine, 2)\n",
    "#popt2 = np.polyfit(x, human, 2)\n",
    "\n",
    "#yn1 = np.polyval(popt1, xn)\n",
    "#plt.plot(xn, yn1)\n",
    "\n",
    "#b1, m1 = polyfit(x, machine, 1)\n",
    "#b2, m2 = polyfit(x, human, 1)\n",
    "\n",
    "#plt.plot(x, b1 + m1 * x, '-')\n",
    "#plt.plot(x, b2 + m2 * x, '-', c = \"orange\")\n",
    "\n",
    "\n",
    "\n"
   ]
  },
  {
   "cell_type": "code",
   "execution_count": null,
   "metadata": {},
   "outputs": [],
   "source": []
  },
  {
   "cell_type": "code",
   "execution_count": null,
   "metadata": {},
   "outputs": [],
   "source": []
  }
 ],
 "metadata": {
  "kernelspec": {
   "display_name": "Python 3",
   "language": "python",
   "name": "python3"
  },
  "language_info": {
   "codemirror_mode": {
    "name": "ipython",
    "version": 3
   },
   "file_extension": ".py",
   "mimetype": "text/x-python",
   "name": "python",
   "nbconvert_exporter": "python",
   "pygments_lexer": "ipython3",
   "version": "3.8.5"
  }
 },
 "nbformat": 4,
 "nbformat_minor": 4
}
